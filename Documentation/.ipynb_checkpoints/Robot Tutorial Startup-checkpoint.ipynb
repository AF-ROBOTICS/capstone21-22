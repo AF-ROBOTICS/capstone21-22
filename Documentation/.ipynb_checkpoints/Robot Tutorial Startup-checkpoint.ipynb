{
 "cells": [
  {
   "cell_type": "markdown",
   "id": "03278da0",
   "metadata": {},
   "source": [
    "# Robotics Teaming Capstone Tutorial\n",
    "### DFEC\n",
    "#### C1C Matthew U. DeMaso\n",
    "\n",
    "### Powering up NUC\n",
    "\n",
    "1. Turn on NUC Computer (square power button on front right side of device).\n",
    "<br />\n",
    "\n",
    "1. Log onto NUC\n",
    "    * USERNAME: DFEC\n",
    "    * PASSWORD: dfec3141\n",
    "<br />\n",
    "<br />\n",
    "\n",
    "1. Open New Terminal <kbd>Ctrl</kbd>+<kbd>Alt</kbd>+<kbd>t</kbd>\n",
    "<br />\n",
    "\n",
    "4. Run ROSCore. Ensure your output is has a successful message as seen below \n",
    "    <img src=\"./Images/roscore.png\">\n",
    "    <img src=\"./Images/roscore2.png\">"
   ]
  },
  {
   "cell_type": "markdown",
   "id": "bca5727b",
   "metadata": {},
   "source": [
    "### Powering On Robots\n",
    "\n",
    "1. Inspect robot condition. Wheels fully seated on axles, motors fully depressed into housing, wires out of the way of wheel wells. Check battery charge on 10,000 MAh battery pack (above 40%). Check charge of AA-Batteries underneath Chassis (Must be changed weekly).\n",
    "\n",
    "1. Ensure all robots have the proper pin connections (Red, Brown, Yellow, Orange to pins 4, 6, 8, 10 respectively).\n",
    "    <img src=\"./Images/IO_Bus.jpg\">\n",
    "\n",
    "1. Plug wire into USB-A port J12 into Micro-USB of TI-RSLK Microcontroller. \n",
    "\n",
    "    <img src=\"./Images/MicroController_Data.jpg\">\n",
    "\n",
    "1. Ensure all robots are oriented to the **west wall** to properly calibrate IMU's.\n",
    "    <img src=\"./Images/ww.jpg\">\n",
    "    <img src=\"./Images/ww2.jpg\">\n",
    "\n",
    "1. If the battery is not already connected: Connect the USB-A end of wire into one of the two USB-A ports of battery pack and  plug the micro-usb end of wire into \"power\" (J1 PWN IN) of Raspberry pi. Once the battery is connected a single click of its power button will turn the battery on and a double click will turn the battery pack off. Check for blinking green ACT LED on pi to determine the state of the battery.\n",
    "    <img src=\"./Images/Pi_Power.jpg\">\n",
    "    <img src=\"./Images/Pi_Power2.jpg\">\n",
    "\n",
    "1. Press button on bottom left side of TI-RSLK board. The LCD display should illuminate and a green indicator light should be seen on the board when viewed from the top of the robot.\n",
    "    <img src=\"./Images/TI_GR.jpg\">"
   ]
  },
  {
   "cell_type": "markdown",
   "id": "edf80fa0",
   "metadata": {},
   "source": [
    "### Ensuring Robot Connectivity\n",
    "1. **DO NOT STOP ROSCORE**\n",
    "\n",
    "1. Open New Terminal <kbd>Ctrl</kbd>+<kbd>Alt</kbd>+<kbd>t</kbd>\n",
    "\n",
    "1. Run rostopic list. \n",
    "    <img src=\"./Images/rostopic_list2.png\">\n",
    "\n",
    "1. Ensure that one instance of */rosout, /rosout_agg, /tf, and tf_static/* are running. Then, each robot (usafabot0-24) should have */usafabot**/cmd_vel, */curr_pos, */dest_pos, */joint_states, */odom/*, and */wheel_speeds*. It may take up to 2 minutes for all the robots to appear on the list.\n",
    "    <img src=\"./Images/rostopic_list.png\">\n",
    "\n",
    "1. If a robot is missing, repeat steps 4-6. Ensure that the robot is fully powered off before powering the pi and turning on TI-RSLK board again. If a robot is still missing after restarting, ensure that the appropriate lanuch files and source files are correct compared to the other robots.\n",
    "\n",
    "1. Run rosnode list.\n",
    "    <img src=\"./Images/rosnode_list2.png\">\n",
    "\n",
    "1. Ensure */rosout* is running. Each robot (usafabot0-24) after running rosnode list has the following nodes, *usafabot**/bot_to_map, */controller, */roadrunner, */robot_state_publisher, */serial*.\n",
    "    <img src=\"./Images/rosnode_list.png\">\n",
    "\n",
    "1. If a robot is missing, repeat steps 4-6. Ensure that the robot is fully powered off before powering the pi and turning on TI-RSLK board again. If a robot is still missing after restarting, ensure that the appropriate lanuch files and source files are correct compared to the other robots."
   ]
  },
  {
   "cell_type": "markdown",
   "id": "ae9b2d53",
   "metadata": {},
   "source": [
    "### Running the Program\n",
    "1. Close all **BUT ROSCORE TERMINAL**.\n",
    "\n",
    "1. Open New Terminal <kbd>Ctrl</kbd>+<kbd>Alt</kbd>+<kbd>t</kbd>\n",
    "\n",
    "1. Run Desired program. The current working program is waterfall.py in the capstone21-22 folder. <kbd>rosrun capstone21-22 waterfall.py</kbd>\n",
    "\n",
    "1. For subsequent runs you **must restart ROSCORE** and all of the robots between each run. A bug has been identified where the rostopics add significant latency to the program after running for any longer than about 10 minutes. \n",
    "\n",
    "1. *Currently only implemented for waterfall*: During the run, a new folder will be created containing logging and measurement data. This data can be interpreted and visualized by running the visualizer.py script.\n",
    "    1. From the terminal, open the capstone21-22/src folder <kbd>roscd capstone21-22/src</kbd>\n",
    "       \n",
    "    1. Run the visualizer script <kbd>python3 visualizer.py</kbd>\n",
    "       \n",
    "    1. The script will open a dialog box to select a folder. Select the desired folder by double clicking it. You can be sure of proper selection when the only folder visable is the 'BreadCrumbs' folder\n",
    "    1. The script will then update the folder to include plots showing the error in position and breadcrumb trails."
   ]
  }
 ],
 "metadata": {
  "kernelspec": {
   "display_name": "Python 3 (ipykernel)",
   "language": "python",
   "name": "python3"
  },
  "language_info": {
   "codemirror_mode": {
    "name": "ipython",
    "version": 3
   },
   "file_extension": ".py",
   "mimetype": "text/x-python",
   "name": "python",
   "nbconvert_exporter": "python",
   "pygments_lexer": "ipython3",
   "version": "3.9.5"
  }
 },
 "nbformat": 4,
 "nbformat_minor": 5
}
